{
 "cells": [
  {
   "cell_type": "code",
   "execution_count": null,
   "metadata": {},
   "outputs": [
    {
     "name": "stdout",
     "output_type": "stream",
     "text": [
      "Lista: [3, 6, 2, 7, 3, 7, 3, 2, 3, 3]\n",
      "Indeks 0: 3\n",
      "Indeks 1: 6\n",
      "Indeks 2: 2\n",
      "Indeks 3: 7\n",
      "Indeks 4: 3\n",
      "Indeks 5: 7\n",
      "Indeks 6: 3\n",
      "Indeks 7: 2\n",
      "Indeks 8: 3\n",
      "Indeks 9: 3\n",
      "Po usunięciu nieparzystych: [6, 2, 2]\n",
      "Po zamianie nieparzystych na indeksy: [6, 2, 2]\n",
      "Po usunięciu 2 i 3: [6]\n",
      "Po dodaniu 15: [6, 15]\n"
     ]
    }
   ],
   "source": [
    "# zadanie 3\n",
    "import random\n",
    "\n",
    "nums = [random.randint(2, 8) for _ in range(10)]\n",
    "print(\"Lista:\", nums)\n",
    "\n",
    "# a) Wypisanie elementów z indeksami\n",
    "for i, num in enumerate(nums):\n",
    "    print(f\"Indeks {i}: {num}\")\n",
    "\n",
    "# b) Usunięcie liczb nieparzystych\n",
    "nums = [num for num in nums if num % 2 == 0]\n",
    "print(\"Po usunięciu nieparzystych:\", nums)\n",
    "\n",
    "# c) Zamiana wartości nieparzystych na indeksy\n",
    "nums = [i if num % 2 != 0 else num for i, num in enumerate(nums)]\n",
    "print(\"Po zamianie nieparzystych na indeksy:\", nums)\n",
    "\n",
    "# d) Usunięcie wszystkich 2 i 3\n",
    "nums = [num for num in nums if num not in [2, 3]]\n",
    "print(\"Po usunięciu 2 i 3:\", nums)\n",
    "\n",
    "# e) Po każdej liczbie podzielnej przez 3 wstawienie 15\n",
    "i = 0\n",
    "while i < len(nums):\n",
    "    if nums[i] % 3 == 0:\n",
    "        nums.insert(i + 1, 15)\n",
    "        i += 1\n",
    "    i += 1\n",
    "print(\"Po dodaniu 15:\", nums)"
   ]
  },
  {
   "cell_type": "code",
   "execution_count": null,
   "metadata": {},
   "outputs": [
    {
     "name": "stdout",
     "output_type": "stream",
     "text": [
      "Tupla: (3, 9, 6, 4, 7, 13, 9, 11, 6, 8)\n",
      "Indeks 0: 3\n",
      "Indeks 1: 9\n",
      "Indeks 2: 6\n",
      "Indeks 3: 4\n",
      "Indeks 4: 7\n",
      "Indeks 5: 13\n",
      "Indeks 6: 9\n",
      "Indeks 7: 11\n",
      "Indeks 8: 6\n",
      "Indeks 9: 8\n",
      "Średnia arytmetyczna: 7.6\n",
      "Średnia harmoniczna: 6.35090718433598\n",
      "Średnia geometryczna: 6.9943809578181995\n",
      "Liczba 3 występuje: 1\n",
      "Liczba 5 występuje: 0\n"
     ]
    }
   ],
   "source": [
    "# zadanie 4\n",
    "import random\n",
    "import math\n",
    "from statistics import mean, harmonic_mean\n",
    "\n",
    "tnums = tuple(random.randint(2, 15) for _ in range(10))\n",
    "print(\"Tupla:\", tnums)\n",
    "\n",
    "# a) Wypisanie elementów z indeksami\n",
    "for i, num in enumerate(tnums):\n",
    "    print(f\"Indeks {i}: {num}\")\n",
    "\n",
    "# b) Średnie\n",
    "print(\"Średnia arytmetyczna:\", mean(tnums))\n",
    "print(\"Średnia harmoniczna:\", harmonic_mean(tnums))\n",
    "print(\"Średnia geometryczna:\", math.prod(tnums) ** (1 / len(tnums)))\n",
    "\n",
    "# c) Zliczenie 3 i 5\n",
    "print(\"Liczba 3 występuje:\", tnums.count(3))\n",
    "print(\"Liczba 5 występuje:\", tnums.count(5))"
   ]
  },
  {
   "cell_type": "code",
   "execution_count": 5,
   "metadata": {},
   "outputs": [
    {
     "name": "stdout",
     "output_type": "stream",
     "text": [
      "Grupa studentów: [(23222, 'Ania', ['stat']), (23223, 'Kasia', ['stat', 'ang', 'mat', 'python', 'BI']), (23224, 'Marek', ['stat', 'python']), (23225, 'Franek', ['BI', 'ang', 'python']), (23226, 'Zosia', ['mat', 'python', 'stat', 'ang']), (23227, 'Magda', ['mat']), (23228, 'Adam', ['python', 'mat', 'ang', 'stat', 'BI']), (23229, 'Michał', ['python', 'BI', 'mat', 'ang'])]\n"
     ]
    }
   ],
   "source": [
    "# zadanie 5\n",
    "import random\n",
    "\n",
    "sub = [\"mat\", \"stat\", \"ang\", \"python\", \"BI\"]\n",
    "names = [\"Ania\", \"Kasia\", \"Marek\", \"Franek\", \"Zosia\", \"Magda\", \"Adam\", \"Michał\"]\n",
    "ids = [23222 + i for i in range(len(names))]\n",
    "\n",
    "group = [(ids[i], names[i], random.sample(sub, random.randint(1, len(sub)))) for i in range(len(names))]\n",
    "print(\"Grupa studentów:\", group)"
   ]
  },
  {
   "cell_type": "code",
   "execution_count": 6,
   "metadata": {},
   "outputs": [
    {
     "name": "stdout",
     "output_type": "stream",
     "text": [
      "[['A', 'B', 'C', 'D', 'E'], ['F', 'G', 'H', 'I', 'J'], ['K', 'L', 'M', 'N', 'O'], ['P', 'Q', 'R', 'S', 'T'], ['U', 'V', 'W', 'X', 'Y'], ['Z']]\n",
      "['ABC', 'DEFG', 'HIJKL', 'MN']\n",
      "[2, 4, 6, 8, 10, 12, 14, 16, 18, 20]\n",
      "[6, 13, 7]\n",
      "[(2, 1), (2, 3), (2, 5), (2, 7), (2, 9), (4, 1), (4, 3), (4, 5), (4, 7), (4, 9), (6, 1), (6, 3), (6, 5), (6, 7), (6, 9), (8, 1), (8, 3), (8, 5), (8, 7), (8, 9)]\n",
      "[[1, 4], [2, 5], [3, 6]]\n",
      "[1, 2, 3, 4, 5, 6, 7, 8]\n",
      "[2, 3, 5, 7, 11, 13, 17, 19, 23, 29, 31, 37, 41, 43, 47, 53, 59, 61, 67, 71, 73, 79, 83, 89, 97]\n",
      "YHUWH\n"
     ]
    }
   ],
   "source": [
    "# zadanie 6\n",
    "import string\n",
    "\n",
    "# a) Litery grupami po 5\n",
    "print([list(string.ascii_uppercase[i:i+5]) for i in range(0, len(string.ascii_uppercase), 5)])\n",
    "\n",
    "# b) Litery grupami zgodnie z lista_liczności\n",
    "lista_liczności = [3, 4, 5, 2]\n",
    "result = []\n",
    "index = 0\n",
    "for count in lista_liczności:\n",
    "    result.append(string.ascii_uppercase[index:index+count])\n",
    "    index += count\n",
    "print(result)\n",
    "\n",
    "# c) Lista liczb parzystych\n",
    "print([x for x in range(1, 21) if x % 2 == 0])\n",
    "\n",
    "# d) Lista długości słów\n",
    "words = [\"Python\", \"programowanie\", \"szybkie\"]\n",
    "print([len(word) for word in words])\n",
    "\n",
    "# e) Tuple (x, y)\n",
    "print([(x, y) for x in range(2, 10, 2) for y in range(1, 10, 2)])\n",
    "\n",
    "# f) Transpozycja macierzy\n",
    "matrix = [[1, 2, 3], [4, 5, 6]]\n",
    "print([[row[i] for row in matrix] for i in range(len(matrix[0]))])\n",
    "\n",
    "# g) Spłaszczenie listy list\n",
    "nested_list = [[1, 2, 3], [4, 5], [6, 7, 8]]\n",
    "print([num for sublist in nested_list for num in sublist])\n",
    "\n",
    "# h) Lista liczb pierwszych\n",
    "print([x for x in range(2, 101) if all(x % d != 0 for d in range(2, int(math.sqrt(x)) + 1))])\n",
    "\n",
    "# i) Szyfr Cezara\n",
    "word = \"VERTE\"\n",
    "print(\"\".join([chr(((ord(ch) - 65 + 3) % 26) + 65) for ch in word]))"
   ]
  },
  {
   "cell_type": "code",
   "execution_count": 8,
   "metadata": {},
   "outputs": [
    {
     "name": "stdout",
     "output_type": "stream",
     "text": [
      "{'Alice': 5, 'Bob': 4, 'Eve': 3}\n",
      "{'a': 97, 'b': 98, 'c': 99, 'd': 100, 'e': 101, 'f': 102, 'g': 103, 'h': 104, 'i': 105, 'j': 106, 'k': 107, 'l': 108, 'm': 109, 'n': 110, 'o': 111, 'p': 112, 'q': 113, 'r': 114, 's': 115, 't': 116, 'u': 117, 'v': 118, 'w': 119, 'x': 120, 'y': 121, 'z': 122}\n",
      "{1: {'kwadrat': 1, 'sześcian': 1}, 2: {'kwadrat': 4, 'sześcian': 8}, 3: {'kwadrat': 9, 'sześcian': 27}, 4: {'kwadrat': 16, 'sześcian': 64}, 5: {'kwadrat': 25, 'sześcian': 125}}\n"
     ]
    }
   ],
   "source": [
    "# zadanie 7\n",
    "# a) Słownik studentów bez niepoprawnych ocen\n",
    "student_grades = [(\"Alice\", 5), (\"Bob\", 4), (\"Eve\", 3), (\"AAA\", \"BBB\")]\n",
    "grades_dict = {name: grade for name, grade in student_grades if isinstance(grade, int)}\n",
    "print(grades_dict)\n",
    "\n",
    "# b) Mapowanie liter na ASCII\n",
    "ascii_dict = {char: ord(char) for char in string.ascii_lowercase}\n",
    "print(ascii_dict)\n",
    "\n",
    "# c) Zagnieżdżony słownik\n",
    "nested_dict = {i: {\"kwadrat\": i**2, \"sześcian\": i**3} for i in range(1, 6)}\n",
    "print(nested_dict)"
   ]
  },
  {
   "cell_type": "code",
   "execution_count": 9,
   "metadata": {},
   "outputs": [
    {
     "name": "stdout",
     "output_type": "stream",
     "text": [
      "{('duże', 'truskawkowe', 'posypka czekoladowa'), ('małe', 'cytrynowe', 'polewa czekoladowa'), ('duże', 'jagodowe', 'polewa czekoladowa'), ('duże', 'cytrynowe', 'posypka kolorowa'), ('małe', 'jagodowe', 'polewa karmelowa'), ('małe', 'śmietankowe', 'posypka kolorowa'), ('małe', 'pistacjowe', 'posypka kolorowa'), ('małe', 'truskawkowe', 'posypka czekoladowa'), ('duże', 'pistacjowe', 'polewa karmelowa'), ('małe', 'jagodowe', 'polewa czekoladowa'), ('duże', 'cytrynowe', 'posypka czekoladowa'), ('małe', 'cytrynowe', 'posypka kolorowa'), ('duże', 'śmietankowe', 'polewa karmelowa'), ('duże', 'truskawkowe', 'polewa karmelowa'), ('duże', 'jagodowe', 'posypka kolorowa'), ('małe', 'śmietankowe', 'posypka czekoladowa'), ('małe', 'pistacjowe', 'posypka czekoladowa'), ('duże', 'pistacjowe', 'polewa czekoladowa'), ('duże', 'śmietankowe', 'polewa czekoladowa'), ('duże', 'truskawkowe', 'polewa czekoladowa'), ('małe', 'truskawkowe', 'polewa karmelowa'), ('małe', 'cytrynowe', 'posypka czekoladowa'), ('małe', 'jagodowe', 'posypka kolorowa'), ('duże', 'jagodowe', 'posypka czekoladowa'), ('duże', 'cytrynowe', 'polewa karmelowa'), ('małe', 'śmietankowe', 'polewa karmelowa'), ('małe', 'pistacjowe', 'polewa karmelowa'), ('małe', 'truskawkowe', 'polewa czekoladowa'), ('małe', 'truskawkowe', 'posypka kolorowa'), ('duże', 'pistacjowe', 'posypka kolorowa'), ('duże', 'śmietankowe', 'posypka kolorowa'), ('duże', 'truskawkowe', 'posypka kolorowa'), ('małe', 'jagodowe', 'posypka czekoladowa'), ('duże', 'cytrynowe', 'polewa czekoladowa'), ('małe', 'śmietankowe', 'polewa czekoladowa'), ('małe', 'pistacjowe', 'polewa czekoladowa'), ('małe', 'cytrynowe', 'polewa karmelowa'), ('duże', 'jagodowe', 'polewa karmelowa'), ('duże', 'pistacjowe', 'posypka czekoladowa'), ('duże', 'śmietankowe', 'posypka czekoladowa')}\n"
     ]
    }
   ],
   "source": [
    "# zadanie 8\n",
    "from itertools import product\n",
    "\n",
    "smaki = [\"śmietankowe\", \"pistacjowe\", \"truskawkowe\", \"jagodowe\", \"cytrynowe\"]\n",
    "rozmiary = [\"duże\", \"małe\"]\n",
    "dodatki = [\"polewa czekoladowa\", \"polewa karmelowa\", \"posypka czekoladowa\", \"posypka kolorowa\"]\n",
    "\n",
    "kombinacje = set(product(rozmiary, smaki, dodatki))\n",
    "print(kombinacje)\n",
    "\n"
   ]
  }
 ],
 "metadata": {
  "kernelspec": {
   "display_name": "Python 3",
   "language": "python",
   "name": "python3"
  },
  "language_info": {
   "codemirror_mode": {
    "name": "ipython",
    "version": 3
   },
   "file_extension": ".py",
   "mimetype": "text/x-python",
   "name": "python",
   "nbconvert_exporter": "python",
   "pygments_lexer": "ipython3",
   "version": "3.11.8"
  }
 },
 "nbformat": 4,
 "nbformat_minor": 2
}
